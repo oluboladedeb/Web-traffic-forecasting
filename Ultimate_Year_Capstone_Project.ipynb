{
  "cells": [
    {
      "cell_type": "markdown",
      "metadata": {
        "id": "view-in-github",
        "colab_type": "text"
      },
      "source": [
        "<a href=\"https://colab.research.google.com/github/oluboladedeb/Web-traffic-forecasting/blob/main/Ultimate_Year_Capstone_Project.ipynb\" target=\"_parent\"><img src=\"https://colab.research.google.com/assets/colab-badge.svg\" alt=\"Open In Colab\"/></a>"
      ]
    },
    {
      "cell_type": "markdown",
      "metadata": {
        "id": "LR3_BgeMnM3x"
      },
      "source": [
        "## **Web Traffic Forecasting Using Machine Learning**"
      ]
    },
    {
      "cell_type": "markdown",
      "metadata": {
        "id": "N6lkfhaQ1_9P"
      },
      "source": [
        "# Web Traffic Forecasting using Machine Learning\n",
        "\n",
        "## Introduction\n",
        "\n",
        "In today's digital age, the internet has become an essential platform for businesses, organizations, and individuals to showcase their products, services, and ideas. Understanding web traffic patterns and forecasting future trends is crucial for effective decision-making, resource allocation, and optimizing user experiences. This is where machine learning techniques come into play.\n",
        "\n",
        "Web traffic forecasting refers to the process of predicting the future number of visitors or page views a website will receive within a specific time frame. Accurate forecasting enables website owners, marketers, and analysts to anticipate demand, plan infrastructure scaling, allocate advertising budgets efficiently, and optimize content delivery.\n",
        "\n",
        "Machine learning, a subset of artificial intelligence, offers powerful tools and algorithms for web traffic forecasting. By leveraging historical traffic data and various features such as time of day, day of the week, seasonality, and external factors, machine learning models can capture complex patterns and make accurate predictions.\n",
        "\n",
        "## Objective\n",
        "\n",
        "The main objective of this project is to develop a machine learning model that can accurately forecast web traffic based on historical data and relevant features. The model will be trained on a dataset containing web traffic information, such as the number of visits or page views, collected over a specific period. Once trained, the model will be able to predict future web traffic based on input features, allowing users to plan and make informed decisions.\n",
        "\n",
        "## Methodology\n",
        "\n",
        "The project will follow the following methodology:\n",
        "\n",
        "1. Data Collection: Collecting a comprehensive dataset containing historical web traffic information, including time-series data and relevant features such as time of day, day of the week, and seasonality. This dataset will serve as the foundation for training and evaluating the machine learning models.\n",
        "\n",
        "2. Data Preprocessing: Exploring and analyzing the collected dataset, performing data cleaning, handling missing values, and transforming the data into a suitable format for training the machine learning models. This step may involve feature engineering to extract meaningful patterns and relationships from the data.\n",
        "\n",
        "3. Model Selection: Evaluating and selecting appropriate machine learning algorithms for web traffic forecasting. Various models such as linear regression, decision trees, random forests, and neural networks will be considered based on their ability to handle time-series data and capture complex patterns.\n",
        "\n",
        "4. Model Training and Evaluation: Splitting the dataset into training and testing sets, training the selected machine learning models on the training data, and evaluating their performance on the testing data. Evaluation metrics such as mean absolute error (MAE), root mean square error (RMSE), and R-squared will be used to assess the models' accuracy and performance.\n",
        "\n",
        "5. Model Optimization: Fine-tuning the selected model's hyperparameters to improve its forecasting accuracy. Techniques such as grid search or Bayesian optimization can be employed to find the optimal combination of hyperparameters.\n",
        "\n",
        "6. Web Traffic Forecasting: Once the model is trained and optimized, it will be deployed to make predictions on unseen data. Users will be able to input relevant features, and the model will provide accurate forecasts of web traffic.\n",
        "\n",
        "## Expected Outcomes\n",
        "\n",
        "By the completion of this project, we expect to achieve the following outcomes:\n",
        "\n",
        "1. A comprehensive understanding of web traffic forecasting using machine learning techniques.\n",
        "2. An optimized machine learning model capable of accurately forecasting web traffic based on historical data and relevant features.\n",
        "3. Insights into the key factors influencing web traffic patterns and trends.\n",
        "4. An evaluation of the model's performance using appropriate metrics.\n",
        "5. Practical implications and recommendations for website owners, marketers, and analysts regarding web traffic management and resource allocation.\n",
        "\n",
        "Web traffic forecasting using machine learning has significant potential to enhance decision-making, optimize resource allocation, and improve user experiences. By accurately predicting web traffic, businesses and organizations can proactively respond to changing demands, plan infrastructure scaling effectively, and allocate advertising budgets efficiently."
      ]
    },
    {
      "cell_type": "markdown",
      "metadata": {
        "id": "Vs6DDR8aEcZp"
      },
      "source": [
        "# Importing Libraries"
      ]
    },
    {
      "cell_type": "code",
      "execution_count": 176,
      "metadata": {
        "id": "HJmDCKuqnHe8"
      },
      "outputs": [],
      "source": [
        "import pandas as pd\n",
        "import numpy as np\n",
        "import matplotlib.pyplot as plt\n",
        "import seaborn as sns\n",
        "from sklearn.model_selection import train_test_split\n",
        "from sklearn.preprocessing import LabelEncoder\n",
        "from sklearn.preprocessing import MinMaxScaler\n",
        "from sklearn.metrics import mean_absolute_error, mean_squared_error, mean_absolute_percentage_error, r2_score\n",
        "from keras.models import Sequential\n",
        "from keras.layers import Dense, LSTM, GRU, SimpleRNN, Conv2D, MaxPooling2D, Flatten\n",
        "from keras.optimizers import Adam"
      ]
    },
    {
      "cell_type": "markdown",
      "metadata": {
        "id": "ab2Z4Y2Lorg_"
      },
      "source": [
        "#Loading the dataset\n"
      ]
    },
    {
      "cell_type": "code",
      "execution_count": 185,
      "metadata": {
        "id": "pdiycimznWlE"
      },
      "outputs": [],
      "source": [
        "dataset_path = \"Estore1.csv\"\n"
      ]
    },
    {
      "cell_type": "code",
      "execution_count": 186,
      "metadata": {
        "id": "suQoR5PSo_57"
      },
      "outputs": [],
      "source": [
        "df = pd.read_csv(\"sample_data/Estore1.csv\")\n",
        "\n",
        "\n"
      ]
    },
    {
      "cell_type": "code",
      "execution_count": 187,
      "metadata": {
        "colab": {
          "base_uri": "https://localhost:8080/",
          "height": 496
        },
        "id": "t2st-BMM447J",
        "outputId": "4b457bea-cbf6-4f5b-cf9e-d4bc28743ee3"
      },
      "outputs": [
        {
          "output_type": "execute_result",
          "data": {
            "text/plain": [
              "   Timestamps      Time  Visitors   Page Views   Transactions Seasonality  \\\n",
              "0  01/01/2023  12:30:00      1000         5000             50      Winter   \n",
              "1  02/01/2023  13:30:00      1200         5200             55      Summer   \n",
              "2  03/01/2023  09:00:00       900         4800             45      Summer   \n",
              "3  04/01/2023  11:00:00      1100         5100             52      Winter   \n",
              "4  05/01/2023  15:00:00       950         4700             48      Winter   \n",
              "5  06/01/2023  19:30:00      1150         5300             54      Winter   \n",
              "6  07/01/2023  19:30:00      1050         4900             50      Spring   \n",
              "7  08/01/2023  17:00:00       950         4600             45      Summer   \n",
              "8  09/01/2023  19:00:00      1050         5100             51      Spring   \n",
              "9  10/01/2023  15:30:00      1000         4800             48      Winter   \n",
              "\n",
              "   Notable Events  \n",
              "0  New Collection  \n",
              "1            Sale  \n",
              "2            Sale  \n",
              "3            Sale  \n",
              "4            Sale  \n",
              "5             NaN  \n",
              "6  New Collection  \n",
              "7  New Collection  \n",
              "8             NaN  \n",
              "9            Sale  "
            ],
            "text/html": [
              "\n",
              "\n",
              "  <div id=\"df-c6471796-db5e-405f-b598-d1abbf9a5613\">\n",
              "    <div class=\"colab-df-container\">\n",
              "      <div>\n",
              "<style scoped>\n",
              "    .dataframe tbody tr th:only-of-type {\n",
              "        vertical-align: middle;\n",
              "    }\n",
              "\n",
              "    .dataframe tbody tr th {\n",
              "        vertical-align: top;\n",
              "    }\n",
              "\n",
              "    .dataframe thead th {\n",
              "        text-align: right;\n",
              "    }\n",
              "</style>\n",
              "<table border=\"1\" class=\"dataframe\">\n",
              "  <thead>\n",
              "    <tr style=\"text-align: right;\">\n",
              "      <th></th>\n",
              "      <th>Timestamps</th>\n",
              "      <th>Time</th>\n",
              "      <th>Visitors</th>\n",
              "      <th>Page Views</th>\n",
              "      <th>Transactions</th>\n",
              "      <th>Seasonality</th>\n",
              "      <th>Notable Events</th>\n",
              "    </tr>\n",
              "  </thead>\n",
              "  <tbody>\n",
              "    <tr>\n",
              "      <th>0</th>\n",
              "      <td>01/01/2023</td>\n",
              "      <td>12:30:00</td>\n",
              "      <td>1000</td>\n",
              "      <td>5000</td>\n",
              "      <td>50</td>\n",
              "      <td>Winter</td>\n",
              "      <td>New Collection</td>\n",
              "    </tr>\n",
              "    <tr>\n",
              "      <th>1</th>\n",
              "      <td>02/01/2023</td>\n",
              "      <td>13:30:00</td>\n",
              "      <td>1200</td>\n",
              "      <td>5200</td>\n",
              "      <td>55</td>\n",
              "      <td>Summer</td>\n",
              "      <td>Sale</td>\n",
              "    </tr>\n",
              "    <tr>\n",
              "      <th>2</th>\n",
              "      <td>03/01/2023</td>\n",
              "      <td>09:00:00</td>\n",
              "      <td>900</td>\n",
              "      <td>4800</td>\n",
              "      <td>45</td>\n",
              "      <td>Summer</td>\n",
              "      <td>Sale</td>\n",
              "    </tr>\n",
              "    <tr>\n",
              "      <th>3</th>\n",
              "      <td>04/01/2023</td>\n",
              "      <td>11:00:00</td>\n",
              "      <td>1100</td>\n",
              "      <td>5100</td>\n",
              "      <td>52</td>\n",
              "      <td>Winter</td>\n",
              "      <td>Sale</td>\n",
              "    </tr>\n",
              "    <tr>\n",
              "      <th>4</th>\n",
              "      <td>05/01/2023</td>\n",
              "      <td>15:00:00</td>\n",
              "      <td>950</td>\n",
              "      <td>4700</td>\n",
              "      <td>48</td>\n",
              "      <td>Winter</td>\n",
              "      <td>Sale</td>\n",
              "    </tr>\n",
              "    <tr>\n",
              "      <th>5</th>\n",
              "      <td>06/01/2023</td>\n",
              "      <td>19:30:00</td>\n",
              "      <td>1150</td>\n",
              "      <td>5300</td>\n",
              "      <td>54</td>\n",
              "      <td>Winter</td>\n",
              "      <td>NaN</td>\n",
              "    </tr>\n",
              "    <tr>\n",
              "      <th>6</th>\n",
              "      <td>07/01/2023</td>\n",
              "      <td>19:30:00</td>\n",
              "      <td>1050</td>\n",
              "      <td>4900</td>\n",
              "      <td>50</td>\n",
              "      <td>Spring</td>\n",
              "      <td>New Collection</td>\n",
              "    </tr>\n",
              "    <tr>\n",
              "      <th>7</th>\n",
              "      <td>08/01/2023</td>\n",
              "      <td>17:00:00</td>\n",
              "      <td>950</td>\n",
              "      <td>4600</td>\n",
              "      <td>45</td>\n",
              "      <td>Summer</td>\n",
              "      <td>New Collection</td>\n",
              "    </tr>\n",
              "    <tr>\n",
              "      <th>8</th>\n",
              "      <td>09/01/2023</td>\n",
              "      <td>19:00:00</td>\n",
              "      <td>1050</td>\n",
              "      <td>5100</td>\n",
              "      <td>51</td>\n",
              "      <td>Spring</td>\n",
              "      <td>NaN</td>\n",
              "    </tr>\n",
              "    <tr>\n",
              "      <th>9</th>\n",
              "      <td>10/01/2023</td>\n",
              "      <td>15:30:00</td>\n",
              "      <td>1000</td>\n",
              "      <td>4800</td>\n",
              "      <td>48</td>\n",
              "      <td>Winter</td>\n",
              "      <td>Sale</td>\n",
              "    </tr>\n",
              "  </tbody>\n",
              "</table>\n",
              "</div>\n",
              "      <button class=\"colab-df-convert\" onclick=\"convertToInteractive('df-c6471796-db5e-405f-b598-d1abbf9a5613')\"\n",
              "              title=\"Convert this dataframe to an interactive table.\"\n",
              "              style=\"display:none;\">\n",
              "\n",
              "  <svg xmlns=\"http://www.w3.org/2000/svg\" height=\"24px\"viewBox=\"0 0 24 24\"\n",
              "       width=\"24px\">\n",
              "    <path d=\"M0 0h24v24H0V0z\" fill=\"none\"/>\n",
              "    <path d=\"M18.56 5.44l.94 2.06.94-2.06 2.06-.94-2.06-.94-.94-2.06-.94 2.06-2.06.94zm-11 1L8.5 8.5l.94-2.06 2.06-.94-2.06-.94L8.5 2.5l-.94 2.06-2.06.94zm10 10l.94 2.06.94-2.06 2.06-.94-2.06-.94-.94-2.06-.94 2.06-2.06.94z\"/><path d=\"M17.41 7.96l-1.37-1.37c-.4-.4-.92-.59-1.43-.59-.52 0-1.04.2-1.43.59L10.3 9.45l-7.72 7.72c-.78.78-.78 2.05 0 2.83L4 21.41c.39.39.9.59 1.41.59.51 0 1.02-.2 1.41-.59l7.78-7.78 2.81-2.81c.8-.78.8-2.07 0-2.86zM5.41 20L4 18.59l7.72-7.72 1.47 1.35L5.41 20z\"/>\n",
              "  </svg>\n",
              "      </button>\n",
              "\n",
              "\n",
              "\n",
              "    <div id=\"df-ed668c3e-096e-4b8f-83b4-99d0e60a3f2a\">\n",
              "      <button class=\"colab-df-quickchart\" onclick=\"quickchart('df-ed668c3e-096e-4b8f-83b4-99d0e60a3f2a')\"\n",
              "              title=\"Suggest charts.\"\n",
              "              style=\"display:none;\">\n",
              "\n",
              "<svg xmlns=\"http://www.w3.org/2000/svg\" height=\"24px\"viewBox=\"0 0 24 24\"\n",
              "     width=\"24px\">\n",
              "    <g>\n",
              "        <path d=\"M19 3H5c-1.1 0-2 .9-2 2v14c0 1.1.9 2 2 2h14c1.1 0 2-.9 2-2V5c0-1.1-.9-2-2-2zM9 17H7v-7h2v7zm4 0h-2V7h2v10zm4 0h-2v-4h2v4z\"/>\n",
              "    </g>\n",
              "</svg>\n",
              "      </button>\n",
              "    </div>\n",
              "\n",
              "<style>\n",
              "  .colab-df-quickchart {\n",
              "    background-color: #E8F0FE;\n",
              "    border: none;\n",
              "    border-radius: 50%;\n",
              "    cursor: pointer;\n",
              "    display: none;\n",
              "    fill: #1967D2;\n",
              "    height: 32px;\n",
              "    padding: 0 0 0 0;\n",
              "    width: 32px;\n",
              "  }\n",
              "\n",
              "  .colab-df-quickchart:hover {\n",
              "    background-color: #E2EBFA;\n",
              "    box-shadow: 0px 1px 2px rgba(60, 64, 67, 0.3), 0px 1px 3px 1px rgba(60, 64, 67, 0.15);\n",
              "    fill: #174EA6;\n",
              "  }\n",
              "\n",
              "  [theme=dark] .colab-df-quickchart {\n",
              "    background-color: #3B4455;\n",
              "    fill: #D2E3FC;\n",
              "  }\n",
              "\n",
              "  [theme=dark] .colab-df-quickchart:hover {\n",
              "    background-color: #434B5C;\n",
              "    box-shadow: 0px 1px 3px 1px rgba(0, 0, 0, 0.15);\n",
              "    filter: drop-shadow(0px 1px 2px rgba(0, 0, 0, 0.3));\n",
              "    fill: #FFFFFF;\n",
              "  }\n",
              "</style>\n",
              "\n",
              "    <script>\n",
              "      async function quickchart(key) {\n",
              "        const containerElement = document.querySelector('#' + key);\n",
              "        const charts = await google.colab.kernel.invokeFunction(\n",
              "            'suggestCharts', [key], {});\n",
              "      }\n",
              "    </script>\n",
              "\n",
              "      <script>\n",
              "\n",
              "function displayQuickchartButton(domScope) {\n",
              "  let quickchartButtonEl =\n",
              "    domScope.querySelector('#df-ed668c3e-096e-4b8f-83b4-99d0e60a3f2a button.colab-df-quickchart');\n",
              "  quickchartButtonEl.style.display =\n",
              "    google.colab.kernel.accessAllowed ? 'block' : 'none';\n",
              "}\n",
              "\n",
              "        displayQuickchartButton(document);\n",
              "      </script>\n",
              "      <style>\n",
              "    .colab-df-container {\n",
              "      display:flex;\n",
              "      flex-wrap:wrap;\n",
              "      gap: 12px;\n",
              "    }\n",
              "\n",
              "    .colab-df-convert {\n",
              "      background-color: #E8F0FE;\n",
              "      border: none;\n",
              "      border-radius: 50%;\n",
              "      cursor: pointer;\n",
              "      display: none;\n",
              "      fill: #1967D2;\n",
              "      height: 32px;\n",
              "      padding: 0 0 0 0;\n",
              "      width: 32px;\n",
              "    }\n",
              "\n",
              "    .colab-df-convert:hover {\n",
              "      background-color: #E2EBFA;\n",
              "      box-shadow: 0px 1px 2px rgba(60, 64, 67, 0.3), 0px 1px 3px 1px rgba(60, 64, 67, 0.15);\n",
              "      fill: #174EA6;\n",
              "    }\n",
              "\n",
              "    [theme=dark] .colab-df-convert {\n",
              "      background-color: #3B4455;\n",
              "      fill: #D2E3FC;\n",
              "    }\n",
              "\n",
              "    [theme=dark] .colab-df-convert:hover {\n",
              "      background-color: #434B5C;\n",
              "      box-shadow: 0px 1px 3px 1px rgba(0, 0, 0, 0.15);\n",
              "      filter: drop-shadow(0px 1px 2px rgba(0, 0, 0, 0.3));\n",
              "      fill: #FFFFFF;\n",
              "    }\n",
              "  </style>\n",
              "\n",
              "      <script>\n",
              "        const buttonEl =\n",
              "          document.querySelector('#df-c6471796-db5e-405f-b598-d1abbf9a5613 button.colab-df-convert');\n",
              "        buttonEl.style.display =\n",
              "          google.colab.kernel.accessAllowed ? 'block' : 'none';\n",
              "\n",
              "        async function convertToInteractive(key) {\n",
              "          const element = document.querySelector('#df-c6471796-db5e-405f-b598-d1abbf9a5613');\n",
              "          const dataTable =\n",
              "            await google.colab.kernel.invokeFunction('convertToInteractive',\n",
              "                                                     [key], {});\n",
              "          if (!dataTable) return;\n",
              "\n",
              "          const docLinkHtml = 'Like what you see? Visit the ' +\n",
              "            '<a target=\"_blank\" href=https://colab.research.google.com/notebooks/data_table.ipynb>data table notebook</a>'\n",
              "            + ' to learn more about interactive tables.';\n",
              "          element.innerHTML = '';\n",
              "          dataTable['output_type'] = 'display_data';\n",
              "          await google.colab.output.renderOutput(dataTable, element);\n",
              "          const docLink = document.createElement('div');\n",
              "          docLink.innerHTML = docLinkHtml;\n",
              "          element.appendChild(docLink);\n",
              "        }\n",
              "      </script>\n",
              "    </div>\n",
              "  </div>\n"
            ]
          },
          "metadata": {},
          "execution_count": 187
        }
      ],
      "source": [
        "df.head(10)"
      ]
    },
    {
      "cell_type": "code",
      "execution_count": 188,
      "metadata": {
        "colab": {
          "base_uri": "https://localhost:8080/",
          "height": 574
        },
        "id": "0lNGVpxB4opn",
        "outputId": "6b7e0b69-6620-4168-a0dd-c17f21a66484"
      },
      "outputs": [
        {
          "output_type": "execute_result",
          "data": {
            "text/plain": [
              "     Timestamps      Time  Visitors   Page Views   Transactions Seasonality  \\\n",
              "1    02/01/2023  13:30:00      1200         5200             55      Summer   \n",
              "2    03/01/2023  09:00:00       900         4800             45      Summer   \n",
              "3    04/01/2023  11:00:00      1100         5100             52      Winter   \n",
              "4    05/01/2023  15:00:00       950         4700             48      Winter   \n",
              "5    06/01/2023  19:30:00      1150         5300             54      Winter   \n",
              "..          ...       ...       ...          ...            ...         ...   \n",
              "176  26/06/2023  20:00:00      1000         4800             49      Summer   \n",
              "177  27/06/2023  08:00:00       900         4500             46      Summer   \n",
              "178  28/06/2023  20:00:00       950         4800             48      Spring   \n",
              "179  29/06/2023  18:30:00      1100         5200             53      Winter   \n",
              "180  30/06/2023  12:30:00      1200         5500            510      Spring   \n",
              "\n",
              "     Notable Events  \n",
              "1              Sale  \n",
              "2              Sale  \n",
              "3              Sale  \n",
              "4              Sale  \n",
              "5               NaN  \n",
              "..              ...  \n",
              "176  New Collection  \n",
              "177  New Collection  \n",
              "178            Sale  \n",
              "179  New Collection  \n",
              "180  New Collection  \n",
              "\n",
              "[180 rows x 7 columns]"
            ],
            "text/html": [
              "\n",
              "\n",
              "  <div id=\"df-210bb125-07c1-4a49-88d1-53804978638e\">\n",
              "    <div class=\"colab-df-container\">\n",
              "      <div>\n",
              "<style scoped>\n",
              "    .dataframe tbody tr th:only-of-type {\n",
              "        vertical-align: middle;\n",
              "    }\n",
              "\n",
              "    .dataframe tbody tr th {\n",
              "        vertical-align: top;\n",
              "    }\n",
              "\n",
              "    .dataframe thead th {\n",
              "        text-align: right;\n",
              "    }\n",
              "</style>\n",
              "<table border=\"1\" class=\"dataframe\">\n",
              "  <thead>\n",
              "    <tr style=\"text-align: right;\">\n",
              "      <th></th>\n",
              "      <th>Timestamps</th>\n",
              "      <th>Time</th>\n",
              "      <th>Visitors</th>\n",
              "      <th>Page Views</th>\n",
              "      <th>Transactions</th>\n",
              "      <th>Seasonality</th>\n",
              "      <th>Notable Events</th>\n",
              "    </tr>\n",
              "  </thead>\n",
              "  <tbody>\n",
              "    <tr>\n",
              "      <th>1</th>\n",
              "      <td>02/01/2023</td>\n",
              "      <td>13:30:00</td>\n",
              "      <td>1200</td>\n",
              "      <td>5200</td>\n",
              "      <td>55</td>\n",
              "      <td>Summer</td>\n",
              "      <td>Sale</td>\n",
              "    </tr>\n",
              "    <tr>\n",
              "      <th>2</th>\n",
              "      <td>03/01/2023</td>\n",
              "      <td>09:00:00</td>\n",
              "      <td>900</td>\n",
              "      <td>4800</td>\n",
              "      <td>45</td>\n",
              "      <td>Summer</td>\n",
              "      <td>Sale</td>\n",
              "    </tr>\n",
              "    <tr>\n",
              "      <th>3</th>\n",
              "      <td>04/01/2023</td>\n",
              "      <td>11:00:00</td>\n",
              "      <td>1100</td>\n",
              "      <td>5100</td>\n",
              "      <td>52</td>\n",
              "      <td>Winter</td>\n",
              "      <td>Sale</td>\n",
              "    </tr>\n",
              "    <tr>\n",
              "      <th>4</th>\n",
              "      <td>05/01/2023</td>\n",
              "      <td>15:00:00</td>\n",
              "      <td>950</td>\n",
              "      <td>4700</td>\n",
              "      <td>48</td>\n",
              "      <td>Winter</td>\n",
              "      <td>Sale</td>\n",
              "    </tr>\n",
              "    <tr>\n",
              "      <th>5</th>\n",
              "      <td>06/01/2023</td>\n",
              "      <td>19:30:00</td>\n",
              "      <td>1150</td>\n",
              "      <td>5300</td>\n",
              "      <td>54</td>\n",
              "      <td>Winter</td>\n",
              "      <td>NaN</td>\n",
              "    </tr>\n",
              "    <tr>\n",
              "      <th>...</th>\n",
              "      <td>...</td>\n",
              "      <td>...</td>\n",
              "      <td>...</td>\n",
              "      <td>...</td>\n",
              "      <td>...</td>\n",
              "      <td>...</td>\n",
              "      <td>...</td>\n",
              "    </tr>\n",
              "    <tr>\n",
              "      <th>176</th>\n",
              "      <td>26/06/2023</td>\n",
              "      <td>20:00:00</td>\n",
              "      <td>1000</td>\n",
              "      <td>4800</td>\n",
              "      <td>49</td>\n",
              "      <td>Summer</td>\n",
              "      <td>New Collection</td>\n",
              "    </tr>\n",
              "    <tr>\n",
              "      <th>177</th>\n",
              "      <td>27/06/2023</td>\n",
              "      <td>08:00:00</td>\n",
              "      <td>900</td>\n",
              "      <td>4500</td>\n",
              "      <td>46</td>\n",
              "      <td>Summer</td>\n",
              "      <td>New Collection</td>\n",
              "    </tr>\n",
              "    <tr>\n",
              "      <th>178</th>\n",
              "      <td>28/06/2023</td>\n",
              "      <td>20:00:00</td>\n",
              "      <td>950</td>\n",
              "      <td>4800</td>\n",
              "      <td>48</td>\n",
              "      <td>Spring</td>\n",
              "      <td>Sale</td>\n",
              "    </tr>\n",
              "    <tr>\n",
              "      <th>179</th>\n",
              "      <td>29/06/2023</td>\n",
              "      <td>18:30:00</td>\n",
              "      <td>1100</td>\n",
              "      <td>5200</td>\n",
              "      <td>53</td>\n",
              "      <td>Winter</td>\n",
              "      <td>New Collection</td>\n",
              "    </tr>\n",
              "    <tr>\n",
              "      <th>180</th>\n",
              "      <td>30/06/2023</td>\n",
              "      <td>12:30:00</td>\n",
              "      <td>1200</td>\n",
              "      <td>5500</td>\n",
              "      <td>510</td>\n",
              "      <td>Spring</td>\n",
              "      <td>New Collection</td>\n",
              "    </tr>\n",
              "  </tbody>\n",
              "</table>\n",
              "<p>180 rows × 7 columns</p>\n",
              "</div>\n",
              "      <button class=\"colab-df-convert\" onclick=\"convertToInteractive('df-210bb125-07c1-4a49-88d1-53804978638e')\"\n",
              "              title=\"Convert this dataframe to an interactive table.\"\n",
              "              style=\"display:none;\">\n",
              "\n",
              "  <svg xmlns=\"http://www.w3.org/2000/svg\" height=\"24px\"viewBox=\"0 0 24 24\"\n",
              "       width=\"24px\">\n",
              "    <path d=\"M0 0h24v24H0V0z\" fill=\"none\"/>\n",
              "    <path d=\"M18.56 5.44l.94 2.06.94-2.06 2.06-.94-2.06-.94-.94-2.06-.94 2.06-2.06.94zm-11 1L8.5 8.5l.94-2.06 2.06-.94-2.06-.94L8.5 2.5l-.94 2.06-2.06.94zm10 10l.94 2.06.94-2.06 2.06-.94-2.06-.94-.94-2.06-.94 2.06-2.06.94z\"/><path d=\"M17.41 7.96l-1.37-1.37c-.4-.4-.92-.59-1.43-.59-.52 0-1.04.2-1.43.59L10.3 9.45l-7.72 7.72c-.78.78-.78 2.05 0 2.83L4 21.41c.39.39.9.59 1.41.59.51 0 1.02-.2 1.41-.59l7.78-7.78 2.81-2.81c.8-.78.8-2.07 0-2.86zM5.41 20L4 18.59l7.72-7.72 1.47 1.35L5.41 20z\"/>\n",
              "  </svg>\n",
              "      </button>\n",
              "\n",
              "\n",
              "\n",
              "    <div id=\"df-bb0f62dd-3a7f-47c2-a954-34fe2d5fb723\">\n",
              "      <button class=\"colab-df-quickchart\" onclick=\"quickchart('df-bb0f62dd-3a7f-47c2-a954-34fe2d5fb723')\"\n",
              "              title=\"Suggest charts.\"\n",
              "              style=\"display:none;\">\n",
              "\n",
              "<svg xmlns=\"http://www.w3.org/2000/svg\" height=\"24px\"viewBox=\"0 0 24 24\"\n",
              "     width=\"24px\">\n",
              "    <g>\n",
              "        <path d=\"M19 3H5c-1.1 0-2 .9-2 2v14c0 1.1.9 2 2 2h14c1.1 0 2-.9 2-2V5c0-1.1-.9-2-2-2zM9 17H7v-7h2v7zm4 0h-2V7h2v10zm4 0h-2v-4h2v4z\"/>\n",
              "    </g>\n",
              "</svg>\n",
              "      </button>\n",
              "    </div>\n",
              "\n",
              "<style>\n",
              "  .colab-df-quickchart {\n",
              "    background-color: #E8F0FE;\n",
              "    border: none;\n",
              "    border-radius: 50%;\n",
              "    cursor: pointer;\n",
              "    display: none;\n",
              "    fill: #1967D2;\n",
              "    height: 32px;\n",
              "    padding: 0 0 0 0;\n",
              "    width: 32px;\n",
              "  }\n",
              "\n",
              "  .colab-df-quickchart:hover {\n",
              "    background-color: #E2EBFA;\n",
              "    box-shadow: 0px 1px 2px rgba(60, 64, 67, 0.3), 0px 1px 3px 1px rgba(60, 64, 67, 0.15);\n",
              "    fill: #174EA6;\n",
              "  }\n",
              "\n",
              "  [theme=dark] .colab-df-quickchart {\n",
              "    background-color: #3B4455;\n",
              "    fill: #D2E3FC;\n",
              "  }\n",
              "\n",
              "  [theme=dark] .colab-df-quickchart:hover {\n",
              "    background-color: #434B5C;\n",
              "    box-shadow: 0px 1px 3px 1px rgba(0, 0, 0, 0.15);\n",
              "    filter: drop-shadow(0px 1px 2px rgba(0, 0, 0, 0.3));\n",
              "    fill: #FFFFFF;\n",
              "  }\n",
              "</style>\n",
              "\n",
              "    <script>\n",
              "      async function quickchart(key) {\n",
              "        const containerElement = document.querySelector('#' + key);\n",
              "        const charts = await google.colab.kernel.invokeFunction(\n",
              "            'suggestCharts', [key], {});\n",
              "      }\n",
              "    </script>\n",
              "\n",
              "      <script>\n",
              "\n",
              "function displayQuickchartButton(domScope) {\n",
              "  let quickchartButtonEl =\n",
              "    domScope.querySelector('#df-bb0f62dd-3a7f-47c2-a954-34fe2d5fb723 button.colab-df-quickchart');\n",
              "  quickchartButtonEl.style.display =\n",
              "    google.colab.kernel.accessAllowed ? 'block' : 'none';\n",
              "}\n",
              "\n",
              "        displayQuickchartButton(document);\n",
              "      </script>\n",
              "      <style>\n",
              "    .colab-df-container {\n",
              "      display:flex;\n",
              "      flex-wrap:wrap;\n",
              "      gap: 12px;\n",
              "    }\n",
              "\n",
              "    .colab-df-convert {\n",
              "      background-color: #E8F0FE;\n",
              "      border: none;\n",
              "      border-radius: 50%;\n",
              "      cursor: pointer;\n",
              "      display: none;\n",
              "      fill: #1967D2;\n",
              "      height: 32px;\n",
              "      padding: 0 0 0 0;\n",
              "      width: 32px;\n",
              "    }\n",
              "\n",
              "    .colab-df-convert:hover {\n",
              "      background-color: #E2EBFA;\n",
              "      box-shadow: 0px 1px 2px rgba(60, 64, 67, 0.3), 0px 1px 3px 1px rgba(60, 64, 67, 0.15);\n",
              "      fill: #174EA6;\n",
              "    }\n",
              "\n",
              "    [theme=dark] .colab-df-convert {\n",
              "      background-color: #3B4455;\n",
              "      fill: #D2E3FC;\n",
              "    }\n",
              "\n",
              "    [theme=dark] .colab-df-convert:hover {\n",
              "      background-color: #434B5C;\n",
              "      box-shadow: 0px 1px 3px 1px rgba(0, 0, 0, 0.15);\n",
              "      filter: drop-shadow(0px 1px 2px rgba(0, 0, 0, 0.3));\n",
              "      fill: #FFFFFF;\n",
              "    }\n",
              "  </style>\n",
              "\n",
              "      <script>\n",
              "        const buttonEl =\n",
              "          document.querySelector('#df-210bb125-07c1-4a49-88d1-53804978638e button.colab-df-convert');\n",
              "        buttonEl.style.display =\n",
              "          google.colab.kernel.accessAllowed ? 'block' : 'none';\n",
              "\n",
              "        async function convertToInteractive(key) {\n",
              "          const element = document.querySelector('#df-210bb125-07c1-4a49-88d1-53804978638e');\n",
              "          const dataTable =\n",
              "            await google.colab.kernel.invokeFunction('convertToInteractive',\n",
              "                                                     [key], {});\n",
              "          if (!dataTable) return;\n",
              "\n",
              "          const docLinkHtml = 'Like what you see? Visit the ' +\n",
              "            '<a target=\"_blank\" href=https://colab.research.google.com/notebooks/data_table.ipynb>data table notebook</a>'\n",
              "            + ' to learn more about interactive tables.';\n",
              "          element.innerHTML = '';\n",
              "          dataTable['output_type'] = 'display_data';\n",
              "          await google.colab.output.renderOutput(dataTable, element);\n",
              "          const docLink = document.createElement('div');\n",
              "          docLink.innerHTML = docLinkHtml;\n",
              "          element.appendChild(docLink);\n",
              "        }\n",
              "      </script>\n",
              "    </div>\n",
              "  </div>\n"
            ]
          },
          "metadata": {},
          "execution_count": 188
        }
      ],
      "source": [
        "df.tail (180)"
      ]
    },
    {
      "cell_type": "code",
      "execution_count": 189,
      "metadata": {
        "colab": {
          "base_uri": "https://localhost:8080/"
        },
        "id": "GpPR4LkS5TkH",
        "outputId": "eea5c4cb-3792-487b-bf57-e9a264976945"
      },
      "outputs": [
        {
          "output_type": "execute_result",
          "data": {
            "text/plain": [
              "(181, 7)"
            ]
          },
          "metadata": {},
          "execution_count": 189
        }
      ],
      "source": [
        "df.shape"
      ]
    },
    {
      "cell_type": "code",
      "execution_count": 190,
      "metadata": {
        "colab": {
          "base_uri": "https://localhost:8080/"
        },
        "id": "mAFJThIE5kMj",
        "outputId": "5c7a3ce6-9d91-461b-dae6-cbb5d630e9a0"
      },
      "outputs": [
        {
          "output_type": "execute_result",
          "data": {
            "text/plain": [
              "array(['Timestamps', 'Time', 'Visitors', ' Page Views', ' Transactions',\n",
              "       'Seasonality', 'Notable Events'], dtype=object)"
            ]
          },
          "metadata": {},
          "execution_count": 190
        }
      ],
      "source": [
        "df.columns.values"
      ]
    },
    {
      "cell_type": "markdown",
      "metadata": {
        "id": "UIUUFbZC5-o0"
      },
      "source": [
        "#Statistical Information\n"
      ]
    },
    {
      "cell_type": "code",
      "execution_count": 183,
      "metadata": {
        "colab": {
          "base_uri": "https://localhost:8080/",
          "height": 361
        },
        "id": "f-5DzdUd6Jba",
        "outputId": "39a3f47e-c396-4629-99f2-b3b741821ea4"
      },
      "outputs": [
        {
          "output_type": "execute_result",
          "data": {
            "text/plain": [
              "       Visitors   Page Views   Transactions\n",
              "count       181          181            181\n",
              "mean       1093         5172             54\n",
              "std         128          408             34\n",
              "min         900         4400             44\n",
              "25%        1000         4800             48\n",
              "50%        1100         5200             53\n",
              "75%        1200         5500             56\n",
              "max        1300         5900            510"
            ],
            "text/html": [
              "\n",
              "\n",
              "  <div id=\"df-13c62e51-3a85-4e2b-aa91-44a4ddbaf0d9\">\n",
              "    <div class=\"colab-df-container\">\n",
              "      <div>\n",
              "<style scoped>\n",
              "    .dataframe tbody tr th:only-of-type {\n",
              "        vertical-align: middle;\n",
              "    }\n",
              "\n",
              "    .dataframe tbody tr th {\n",
              "        vertical-align: top;\n",
              "    }\n",
              "\n",
              "    .dataframe thead th {\n",
              "        text-align: right;\n",
              "    }\n",
              "</style>\n",
              "<table border=\"1\" class=\"dataframe\">\n",
              "  <thead>\n",
              "    <tr style=\"text-align: right;\">\n",
              "      <th></th>\n",
              "      <th>Visitors</th>\n",
              "      <th>Page Views</th>\n",
              "      <th>Transactions</th>\n",
              "    </tr>\n",
              "  </thead>\n",
              "  <tbody>\n",
              "    <tr>\n",
              "      <th>count</th>\n",
              "      <td>181</td>\n",
              "      <td>181</td>\n",
              "      <td>181</td>\n",
              "    </tr>\n",
              "    <tr>\n",
              "      <th>mean</th>\n",
              "      <td>1093</td>\n",
              "      <td>5172</td>\n",
              "      <td>54</td>\n",
              "    </tr>\n",
              "    <tr>\n",
              "      <th>std</th>\n",
              "      <td>128</td>\n",
              "      <td>408</td>\n",
              "      <td>34</td>\n",
              "    </tr>\n",
              "    <tr>\n",
              "      <th>min</th>\n",
              "      <td>900</td>\n",
              "      <td>4400</td>\n",
              "      <td>44</td>\n",
              "    </tr>\n",
              "    <tr>\n",
              "      <th>25%</th>\n",
              "      <td>1000</td>\n",
              "      <td>4800</td>\n",
              "      <td>48</td>\n",
              "    </tr>\n",
              "    <tr>\n",
              "      <th>50%</th>\n",
              "      <td>1100</td>\n",
              "      <td>5200</td>\n",
              "      <td>53</td>\n",
              "    </tr>\n",
              "    <tr>\n",
              "      <th>75%</th>\n",
              "      <td>1200</td>\n",
              "      <td>5500</td>\n",
              "      <td>56</td>\n",
              "    </tr>\n",
              "    <tr>\n",
              "      <th>max</th>\n",
              "      <td>1300</td>\n",
              "      <td>5900</td>\n",
              "      <td>510</td>\n",
              "    </tr>\n",
              "  </tbody>\n",
              "</table>\n",
              "</div>\n",
              "      <button class=\"colab-df-convert\" onclick=\"convertToInteractive('df-13c62e51-3a85-4e2b-aa91-44a4ddbaf0d9')\"\n",
              "              title=\"Convert this dataframe to an interactive table.\"\n",
              "              style=\"display:none;\">\n",
              "\n",
              "  <svg xmlns=\"http://www.w3.org/2000/svg\" height=\"24px\"viewBox=\"0 0 24 24\"\n",
              "       width=\"24px\">\n",
              "    <path d=\"M0 0h24v24H0V0z\" fill=\"none\"/>\n",
              "    <path d=\"M18.56 5.44l.94 2.06.94-2.06 2.06-.94-2.06-.94-.94-2.06-.94 2.06-2.06.94zm-11 1L8.5 8.5l.94-2.06 2.06-.94-2.06-.94L8.5 2.5l-.94 2.06-2.06.94zm10 10l.94 2.06.94-2.06 2.06-.94-2.06-.94-.94-2.06-.94 2.06-2.06.94z\"/><path d=\"M17.41 7.96l-1.37-1.37c-.4-.4-.92-.59-1.43-.59-.52 0-1.04.2-1.43.59L10.3 9.45l-7.72 7.72c-.78.78-.78 2.05 0 2.83L4 21.41c.39.39.9.59 1.41.59.51 0 1.02-.2 1.41-.59l7.78-7.78 2.81-2.81c.8-.78.8-2.07 0-2.86zM5.41 20L4 18.59l7.72-7.72 1.47 1.35L5.41 20z\"/>\n",
              "  </svg>\n",
              "      </button>\n",
              "\n",
              "\n",
              "\n",
              "    <div id=\"df-7464e8d5-b295-47fd-8c72-5368ad23599a\">\n",
              "      <button class=\"colab-df-quickchart\" onclick=\"quickchart('df-7464e8d5-b295-47fd-8c72-5368ad23599a')\"\n",
              "              title=\"Suggest charts.\"\n",
              "              style=\"display:none;\">\n",
              "\n",
              "<svg xmlns=\"http://www.w3.org/2000/svg\" height=\"24px\"viewBox=\"0 0 24 24\"\n",
              "     width=\"24px\">\n",
              "    <g>\n",
              "        <path d=\"M19 3H5c-1.1 0-2 .9-2 2v14c0 1.1.9 2 2 2h14c1.1 0 2-.9 2-2V5c0-1.1-.9-2-2-2zM9 17H7v-7h2v7zm4 0h-2V7h2v10zm4 0h-2v-4h2v4z\"/>\n",
              "    </g>\n",
              "</svg>\n",
              "      </button>\n",
              "    </div>\n",
              "\n",
              "<style>\n",
              "  .colab-df-quickchart {\n",
              "    background-color: #E8F0FE;\n",
              "    border: none;\n",
              "    border-radius: 50%;\n",
              "    cursor: pointer;\n",
              "    display: none;\n",
              "    fill: #1967D2;\n",
              "    height: 32px;\n",
              "    padding: 0 0 0 0;\n",
              "    width: 32px;\n",
              "  }\n",
              "\n",
              "  .colab-df-quickchart:hover {\n",
              "    background-color: #E2EBFA;\n",
              "    box-shadow: 0px 1px 2px rgba(60, 64, 67, 0.3), 0px 1px 3px 1px rgba(60, 64, 67, 0.15);\n",
              "    fill: #174EA6;\n",
              "  }\n",
              "\n",
              "  [theme=dark] .colab-df-quickchart {\n",
              "    background-color: #3B4455;\n",
              "    fill: #D2E3FC;\n",
              "  }\n",
              "\n",
              "  [theme=dark] .colab-df-quickchart:hover {\n",
              "    background-color: #434B5C;\n",
              "    box-shadow: 0px 1px 3px 1px rgba(0, 0, 0, 0.15);\n",
              "    filter: drop-shadow(0px 1px 2px rgba(0, 0, 0, 0.3));\n",
              "    fill: #FFFFFF;\n",
              "  }\n",
              "</style>\n",
              "\n",
              "    <script>\n",
              "      async function quickchart(key) {\n",
              "        const containerElement = document.querySelector('#' + key);\n",
              "        const charts = await google.colab.kernel.invokeFunction(\n",
              "            'suggestCharts', [key], {});\n",
              "      }\n",
              "    </script>\n",
              "\n",
              "      <script>\n",
              "\n",
              "function displayQuickchartButton(domScope) {\n",
              "  let quickchartButtonEl =\n",
              "    domScope.querySelector('#df-7464e8d5-b295-47fd-8c72-5368ad23599a button.colab-df-quickchart');\n",
              "  quickchartButtonEl.style.display =\n",
              "    google.colab.kernel.accessAllowed ? 'block' : 'none';\n",
              "}\n",
              "\n",
              "        displayQuickchartButton(document);\n",
              "      </script>\n",
              "      <style>\n",
              "    .colab-df-container {\n",
              "      display:flex;\n",
              "      flex-wrap:wrap;\n",
              "      gap: 12px;\n",
              "    }\n",
              "\n",
              "    .colab-df-convert {\n",
              "      background-color: #E8F0FE;\n",
              "      border: none;\n",
              "      border-radius: 50%;\n",
              "      cursor: pointer;\n",
              "      display: none;\n",
              "      fill: #1967D2;\n",
              "      height: 32px;\n",
              "      padding: 0 0 0 0;\n",
              "      width: 32px;\n",
              "    }\n",
              "\n",
              "    .colab-df-convert:hover {\n",
              "      background-color: #E2EBFA;\n",
              "      box-shadow: 0px 1px 2px rgba(60, 64, 67, 0.3), 0px 1px 3px 1px rgba(60, 64, 67, 0.15);\n",
              "      fill: #174EA6;\n",
              "    }\n",
              "\n",
              "    [theme=dark] .colab-df-convert {\n",
              "      background-color: #3B4455;\n",
              "      fill: #D2E3FC;\n",
              "    }\n",
              "\n",
              "    [theme=dark] .colab-df-convert:hover {\n",
              "      background-color: #434B5C;\n",
              "      box-shadow: 0px 1px 3px 1px rgba(0, 0, 0, 0.15);\n",
              "      filter: drop-shadow(0px 1px 2px rgba(0, 0, 0, 0.3));\n",
              "      fill: #FFFFFF;\n",
              "    }\n",
              "  </style>\n",
              "\n",
              "      <script>\n",
              "        const buttonEl =\n",
              "          document.querySelector('#df-13c62e51-3a85-4e2b-aa91-44a4ddbaf0d9 button.colab-df-convert');\n",
              "        buttonEl.style.display =\n",
              "          google.colab.kernel.accessAllowed ? 'block' : 'none';\n",
              "\n",
              "        async function convertToInteractive(key) {\n",
              "          const element = document.querySelector('#df-13c62e51-3a85-4e2b-aa91-44a4ddbaf0d9');\n",
              "          const dataTable =\n",
              "            await google.colab.kernel.invokeFunction('convertToInteractive',\n",
              "                                                     [key], {});\n",
              "          if (!dataTable) return;\n",
              "\n",
              "          const docLinkHtml = 'Like what you see? Visit the ' +\n",
              "            '<a target=\"_blank\" href=https://colab.research.google.com/notebooks/data_table.ipynb>data table notebook</a>'\n",
              "            + ' to learn more about interactive tables.';\n",
              "          element.innerHTML = '';\n",
              "          dataTable['output_type'] = 'display_data';\n",
              "          await google.colab.output.renderOutput(dataTable, element);\n",
              "          const docLink = document.createElement('div');\n",
              "          docLink.innerHTML = docLinkHtml;\n",
              "          element.appendChild(docLink);\n",
              "        }\n",
              "      </script>\n",
              "    </div>\n",
              "  </div>\n"
            ]
          },
          "metadata": {},
          "execution_count": 183
        }
      ],
      "source": [
        "df.describe().astype(int)"
      ]
    },
    {
      "cell_type": "code",
      "execution_count": 184,
      "metadata": {
        "colab": {
          "base_uri": "https://localhost:8080/"
        },
        "id": "19AqKVvP6Wf1",
        "outputId": "51c71a2c-a7de-4635-9d6f-7a36634db537"
      },
      "outputs": [
        {
          "output_type": "execute_result",
          "data": {
            "text/plain": [
              "Timestamps        object\n",
              "Time              object\n",
              "Visitors           int64\n",
              " Page Views        int64\n",
              " Transactions      int64\n",
              "Seasonality       object\n",
              "Notable Events    object\n",
              "dtype: object"
            ]
          },
          "metadata": {},
          "execution_count": 184
        }
      ],
      "source": [
        "df.dtypes"
      ]
    },
    {
      "cell_type": "markdown",
      "metadata": {
        "id": "YjMtvaxT1Xra"
      },
      "source": [
        "#Data Cleaning"
      ]
    },
    {
      "cell_type": "code",
      "execution_count": 192,
      "metadata": {
        "colab": {
          "base_uri": "https://localhost:8080/"
        },
        "id": "Z7kiW9Bl1hoj",
        "outputId": "a282fab7-240c-4762-c88b-8b32267c7dc5"
      },
      "outputs": [
        {
          "output_type": "execute_result",
          "data": {
            "text/plain": [
              "Timestamps         0\n",
              "Time               0\n",
              "Visitors           0\n",
              " Page Views        0\n",
              " Transactions      0\n",
              "Seasonality        0\n",
              "Notable Events    56\n",
              "dtype: int64"
            ]
          },
          "metadata": {},
          "execution_count": 192
        }
      ],
      "source": [
        "# Checking for Missing Values\n",
        "df.isnull().sum()"
      ]
    },
    {
      "cell_type": "markdown",
      "metadata": {
        "id": "iKhQ4lEJBzPI"
      },
      "source": [
        "Here there are no missing values in date, time, seasonality,web traffic, feature 1 and feature 2. However, there are 56 missing values in notable events column which must be fixed."
      ]
    },
    {
      "cell_type": "code",
      "execution_count": 193,
      "metadata": {
        "id": "DYQlqjas-VRN"
      },
      "outputs": [],
      "source": [
        "  #  Create a missing value indicator for 'Notable Events'."
      ]
    },
    {
      "cell_type": "code",
      "execution_count": 194,
      "metadata": {
        "id": "6ab7xLqFAjnt"
      },
      "outputs": [],
      "source": [
        "desired_value = '-'\n",
        "df['Notable Events'] = df['Notable Events'].fillna(desired_value)"
      ]
    },
    {
      "cell_type": "code",
      "execution_count": 195,
      "metadata": {
        "colab": {
          "base_uri": "https://localhost:8080/"
        },
        "id": "OtM3PTPGA0c8",
        "outputId": "dd8a87e6-11e3-4869-fa6e-8dc9b86fe86c"
      },
      "outputs": [
        {
          "output_type": "execute_result",
          "data": {
            "text/plain": [
              "Timestamps        0\n",
              "Time              0\n",
              "Visitors          0\n",
              " Page Views       0\n",
              " Transactions     0\n",
              "Seasonality       0\n",
              "Notable Events    0\n",
              "dtype: int64"
            ]
          },
          "metadata": {},
          "execution_count": 195
        }
      ],
      "source": [
        "df.isnull().sum()"
      ]
    },
    {
      "cell_type": "markdown",
      "metadata": {
        "id": "O7PoEgb5BQ0p"
      },
      "source": [
        "Missing values have been handled by input '-' where 'NaN' is shown in the notable events column. Here there's no longer any missing values"
      ]
    },
    {
      "cell_type": "code",
      "execution_count": 196,
      "metadata": {
        "colab": {
          "base_uri": "https://localhost:8080/",
          "height": 496
        },
        "id": "jdX7spUxCqBv",
        "outputId": "09588f0e-4c43-45b5-dae4-1d90a757341d"
      },
      "outputs": [
        {
          "output_type": "execute_result",
          "data": {
            "text/plain": [
              "   Timestamps      Time  Visitors   Page Views   Transactions Seasonality  \\\n",
              "0  01/01/2023  12:30:00      1000         5000             50      Winter   \n",
              "1  02/01/2023  13:30:00      1200         5200             55      Summer   \n",
              "2  03/01/2023  09:00:00       900         4800             45      Summer   \n",
              "3  04/01/2023  11:00:00      1100         5100             52      Winter   \n",
              "4  05/01/2023  15:00:00       950         4700             48      Winter   \n",
              "5  06/01/2023  19:30:00      1150         5300             54      Winter   \n",
              "6  07/01/2023  19:30:00      1050         4900             50      Spring   \n",
              "7  08/01/2023  17:00:00       950         4600             45      Summer   \n",
              "8  09/01/2023  19:00:00      1050         5100             51      Spring   \n",
              "9  10/01/2023  15:30:00      1000         4800             48      Winter   \n",
              "\n",
              "   Notable Events  \n",
              "0  New Collection  \n",
              "1            Sale  \n",
              "2            Sale  \n",
              "3            Sale  \n",
              "4            Sale  \n",
              "5               -  \n",
              "6  New Collection  \n",
              "7  New Collection  \n",
              "8               -  \n",
              "9            Sale  "
            ],
            "text/html": [
              "\n",
              "\n",
              "  <div id=\"df-b8a65bbf-154d-4ccc-999c-f1d5cd1bd707\">\n",
              "    <div class=\"colab-df-container\">\n",
              "      <div>\n",
              "<style scoped>\n",
              "    .dataframe tbody tr th:only-of-type {\n",
              "        vertical-align: middle;\n",
              "    }\n",
              "\n",
              "    .dataframe tbody tr th {\n",
              "        vertical-align: top;\n",
              "    }\n",
              "\n",
              "    .dataframe thead th {\n",
              "        text-align: right;\n",
              "    }\n",
              "</style>\n",
              "<table border=\"1\" class=\"dataframe\">\n",
              "  <thead>\n",
              "    <tr style=\"text-align: right;\">\n",
              "      <th></th>\n",
              "      <th>Timestamps</th>\n",
              "      <th>Time</th>\n",
              "      <th>Visitors</th>\n",
              "      <th>Page Views</th>\n",
              "      <th>Transactions</th>\n",
              "      <th>Seasonality</th>\n",
              "      <th>Notable Events</th>\n",
              "    </tr>\n",
              "  </thead>\n",
              "  <tbody>\n",
              "    <tr>\n",
              "      <th>0</th>\n",
              "      <td>01/01/2023</td>\n",
              "      <td>12:30:00</td>\n",
              "      <td>1000</td>\n",
              "      <td>5000</td>\n",
              "      <td>50</td>\n",
              "      <td>Winter</td>\n",
              "      <td>New Collection</td>\n",
              "    </tr>\n",
              "    <tr>\n",
              "      <th>1</th>\n",
              "      <td>02/01/2023</td>\n",
              "      <td>13:30:00</td>\n",
              "      <td>1200</td>\n",
              "      <td>5200</td>\n",
              "      <td>55</td>\n",
              "      <td>Summer</td>\n",
              "      <td>Sale</td>\n",
              "    </tr>\n",
              "    <tr>\n",
              "      <th>2</th>\n",
              "      <td>03/01/2023</td>\n",
              "      <td>09:00:00</td>\n",
              "      <td>900</td>\n",
              "      <td>4800</td>\n",
              "      <td>45</td>\n",
              "      <td>Summer</td>\n",
              "      <td>Sale</td>\n",
              "    </tr>\n",
              "    <tr>\n",
              "      <th>3</th>\n",
              "      <td>04/01/2023</td>\n",
              "      <td>11:00:00</td>\n",
              "      <td>1100</td>\n",
              "      <td>5100</td>\n",
              "      <td>52</td>\n",
              "      <td>Winter</td>\n",
              "      <td>Sale</td>\n",
              "    </tr>\n",
              "    <tr>\n",
              "      <th>4</th>\n",
              "      <td>05/01/2023</td>\n",
              "      <td>15:00:00</td>\n",
              "      <td>950</td>\n",
              "      <td>4700</td>\n",
              "      <td>48</td>\n",
              "      <td>Winter</td>\n",
              "      <td>Sale</td>\n",
              "    </tr>\n",
              "    <tr>\n",
              "      <th>5</th>\n",
              "      <td>06/01/2023</td>\n",
              "      <td>19:30:00</td>\n",
              "      <td>1150</td>\n",
              "      <td>5300</td>\n",
              "      <td>54</td>\n",
              "      <td>Winter</td>\n",
              "      <td>-</td>\n",
              "    </tr>\n",
              "    <tr>\n",
              "      <th>6</th>\n",
              "      <td>07/01/2023</td>\n",
              "      <td>19:30:00</td>\n",
              "      <td>1050</td>\n",
              "      <td>4900</td>\n",
              "      <td>50</td>\n",
              "      <td>Spring</td>\n",
              "      <td>New Collection</td>\n",
              "    </tr>\n",
              "    <tr>\n",
              "      <th>7</th>\n",
              "      <td>08/01/2023</td>\n",
              "      <td>17:00:00</td>\n",
              "      <td>950</td>\n",
              "      <td>4600</td>\n",
              "      <td>45</td>\n",
              "      <td>Summer</td>\n",
              "      <td>New Collection</td>\n",
              "    </tr>\n",
              "    <tr>\n",
              "      <th>8</th>\n",
              "      <td>09/01/2023</td>\n",
              "      <td>19:00:00</td>\n",
              "      <td>1050</td>\n",
              "      <td>5100</td>\n",
              "      <td>51</td>\n",
              "      <td>Spring</td>\n",
              "      <td>-</td>\n",
              "    </tr>\n",
              "    <tr>\n",
              "      <th>9</th>\n",
              "      <td>10/01/2023</td>\n",
              "      <td>15:30:00</td>\n",
              "      <td>1000</td>\n",
              "      <td>4800</td>\n",
              "      <td>48</td>\n",
              "      <td>Winter</td>\n",
              "      <td>Sale</td>\n",
              "    </tr>\n",
              "  </tbody>\n",
              "</table>\n",
              "</div>\n",
              "      <button class=\"colab-df-convert\" onclick=\"convertToInteractive('df-b8a65bbf-154d-4ccc-999c-f1d5cd1bd707')\"\n",
              "              title=\"Convert this dataframe to an interactive table.\"\n",
              "              style=\"display:none;\">\n",
              "\n",
              "  <svg xmlns=\"http://www.w3.org/2000/svg\" height=\"24px\"viewBox=\"0 0 24 24\"\n",
              "       width=\"24px\">\n",
              "    <path d=\"M0 0h24v24H0V0z\" fill=\"none\"/>\n",
              "    <path d=\"M18.56 5.44l.94 2.06.94-2.06 2.06-.94-2.06-.94-.94-2.06-.94 2.06-2.06.94zm-11 1L8.5 8.5l.94-2.06 2.06-.94-2.06-.94L8.5 2.5l-.94 2.06-2.06.94zm10 10l.94 2.06.94-2.06 2.06-.94-2.06-.94-.94-2.06-.94 2.06-2.06.94z\"/><path d=\"M17.41 7.96l-1.37-1.37c-.4-.4-.92-.59-1.43-.59-.52 0-1.04.2-1.43.59L10.3 9.45l-7.72 7.72c-.78.78-.78 2.05 0 2.83L4 21.41c.39.39.9.59 1.41.59.51 0 1.02-.2 1.41-.59l7.78-7.78 2.81-2.81c.8-.78.8-2.07 0-2.86zM5.41 20L4 18.59l7.72-7.72 1.47 1.35L5.41 20z\"/>\n",
              "  </svg>\n",
              "      </button>\n",
              "\n",
              "\n",
              "\n",
              "    <div id=\"df-1b0f764a-5aca-4fdd-922c-224d53dc86ee\">\n",
              "      <button class=\"colab-df-quickchart\" onclick=\"quickchart('df-1b0f764a-5aca-4fdd-922c-224d53dc86ee')\"\n",
              "              title=\"Suggest charts.\"\n",
              "              style=\"display:none;\">\n",
              "\n",
              "<svg xmlns=\"http://www.w3.org/2000/svg\" height=\"24px\"viewBox=\"0 0 24 24\"\n",
              "     width=\"24px\">\n",
              "    <g>\n",
              "        <path d=\"M19 3H5c-1.1 0-2 .9-2 2v14c0 1.1.9 2 2 2h14c1.1 0 2-.9 2-2V5c0-1.1-.9-2-2-2zM9 17H7v-7h2v7zm4 0h-2V7h2v10zm4 0h-2v-4h2v4z\"/>\n",
              "    </g>\n",
              "</svg>\n",
              "      </button>\n",
              "    </div>\n",
              "\n",
              "<style>\n",
              "  .colab-df-quickchart {\n",
              "    background-color: #E8F0FE;\n",
              "    border: none;\n",
              "    border-radius: 50%;\n",
              "    cursor: pointer;\n",
              "    display: none;\n",
              "    fill: #1967D2;\n",
              "    height: 32px;\n",
              "    padding: 0 0 0 0;\n",
              "    width: 32px;\n",
              "  }\n",
              "\n",
              "  .colab-df-quickchart:hover {\n",
              "    background-color: #E2EBFA;\n",
              "    box-shadow: 0px 1px 2px rgba(60, 64, 67, 0.3), 0px 1px 3px 1px rgba(60, 64, 67, 0.15);\n",
              "    fill: #174EA6;\n",
              "  }\n",
              "\n",
              "  [theme=dark] .colab-df-quickchart {\n",
              "    background-color: #3B4455;\n",
              "    fill: #D2E3FC;\n",
              "  }\n",
              "\n",
              "  [theme=dark] .colab-df-quickchart:hover {\n",
              "    background-color: #434B5C;\n",
              "    box-shadow: 0px 1px 3px 1px rgba(0, 0, 0, 0.15);\n",
              "    filter: drop-shadow(0px 1px 2px rgba(0, 0, 0, 0.3));\n",
              "    fill: #FFFFFF;\n",
              "  }\n",
              "</style>\n",
              "\n",
              "    <script>\n",
              "      async function quickchart(key) {\n",
              "        const containerElement = document.querySelector('#' + key);\n",
              "        const charts = await google.colab.kernel.invokeFunction(\n",
              "            'suggestCharts', [key], {});\n",
              "      }\n",
              "    </script>\n",
              "\n",
              "      <script>\n",
              "\n",
              "function displayQuickchartButton(domScope) {\n",
              "  let quickchartButtonEl =\n",
              "    domScope.querySelector('#df-1b0f764a-5aca-4fdd-922c-224d53dc86ee button.colab-df-quickchart');\n",
              "  quickchartButtonEl.style.display =\n",
              "    google.colab.kernel.accessAllowed ? 'block' : 'none';\n",
              "}\n",
              "\n",
              "        displayQuickchartButton(document);\n",
              "      </script>\n",
              "      <style>\n",
              "    .colab-df-container {\n",
              "      display:flex;\n",
              "      flex-wrap:wrap;\n",
              "      gap: 12px;\n",
              "    }\n",
              "\n",
              "    .colab-df-convert {\n",
              "      background-color: #E8F0FE;\n",
              "      border: none;\n",
              "      border-radius: 50%;\n",
              "      cursor: pointer;\n",
              "      display: none;\n",
              "      fill: #1967D2;\n",
              "      height: 32px;\n",
              "      padding: 0 0 0 0;\n",
              "      width: 32px;\n",
              "    }\n",
              "\n",
              "    .colab-df-convert:hover {\n",
              "      background-color: #E2EBFA;\n",
              "      box-shadow: 0px 1px 2px rgba(60, 64, 67, 0.3), 0px 1px 3px 1px rgba(60, 64, 67, 0.15);\n",
              "      fill: #174EA6;\n",
              "    }\n",
              "\n",
              "    [theme=dark] .colab-df-convert {\n",
              "      background-color: #3B4455;\n",
              "      fill: #D2E3FC;\n",
              "    }\n",
              "\n",
              "    [theme=dark] .colab-df-convert:hover {\n",
              "      background-color: #434B5C;\n",
              "      box-shadow: 0px 1px 3px 1px rgba(0, 0, 0, 0.15);\n",
              "      filter: drop-shadow(0px 1px 2px rgba(0, 0, 0, 0.3));\n",
              "      fill: #FFFFFF;\n",
              "    }\n",
              "  </style>\n",
              "\n",
              "      <script>\n",
              "        const buttonEl =\n",
              "          document.querySelector('#df-b8a65bbf-154d-4ccc-999c-f1d5cd1bd707 button.colab-df-convert');\n",
              "        buttonEl.style.display =\n",
              "          google.colab.kernel.accessAllowed ? 'block' : 'none';\n",
              "\n",
              "        async function convertToInteractive(key) {\n",
              "          const element = document.querySelector('#df-b8a65bbf-154d-4ccc-999c-f1d5cd1bd707');\n",
              "          const dataTable =\n",
              "            await google.colab.kernel.invokeFunction('convertToInteractive',\n",
              "                                                     [key], {});\n",
              "          if (!dataTable) return;\n",
              "\n",
              "          const docLinkHtml = 'Like what you see? Visit the ' +\n",
              "            '<a target=\"_blank\" href=https://colab.research.google.com/notebooks/data_table.ipynb>data table notebook</a>'\n",
              "            + ' to learn more about interactive tables.';\n",
              "          element.innerHTML = '';\n",
              "          dataTable['output_type'] = 'display_data';\n",
              "          await google.colab.output.renderOutput(dataTable, element);\n",
              "          const docLink = document.createElement('div');\n",
              "          docLink.innerHTML = docLinkHtml;\n",
              "          element.appendChild(docLink);\n",
              "        }\n",
              "      </script>\n",
              "    </div>\n",
              "  </div>\n"
            ]
          },
          "metadata": {},
          "execution_count": 196
        }
      ],
      "source": [
        "df.head(10)"
      ]
    },
    {
      "cell_type": "markdown",
      "metadata": {
        "id": "GagCf9TPJJAq"
      },
      "source": [
        "#Visualising Missing Data"
      ]
    },
    {
      "cell_type": "markdown",
      "metadata": {
        "id": "2YoBa7lkLU6p"
      },
      "source": [
        "# Exploratory Data Analysis"
      ]
    },
    {
      "cell_type": "code",
      "execution_count": 198,
      "metadata": {
        "colab": {
          "base_uri": "https://localhost:8080/",
          "height": 197
        },
        "id": "CQm7NU5cOEbV",
        "outputId": "81f09717-4390-4e51-c366-a3685ab9122c"
      },
      "outputs": [
        {
          "output_type": "display_data",
          "data": {
            "text/plain": [
              "<Figure size 1000x500 with 1 Axes>"
            ],
            "image/png": "[encoded data removed]"
          },
          "metadata": {}
        }
      ],
      "source": [
        "# observing web visits by Seasonality\n",
        "sns.set_theme(font_scale=1.5)\n",
        "plt.figure(figsize=(10, 5))\n",
        "sns.barplot(x='Seasonality', y='Visitors', hue='Notable Events', data=df).set_title(\"Web Traffic by Season\")\n",
        "\n",
        "plt.show()"
      ]
    },
    {
      "cell_type": "code",
      "execution_count": 213,
      "metadata": {
        "colab": {
          "base_uri": "https://localhost:8080/",
          "height": 570
        },
        "id": "CAa0qHJGRT3d",
        "outputId": "c268d008-d22d-431b-b7d3-351f7088c302"
      },
      "outputs": [
        {
          "output_type": "execute_result",
          "data": {
            "text/plain": [
              "Text(0.5, 1.0, 'Web Traffic by Notable Events')"
            ]
          },
          "metadata": {},
          "execution_count": 213
        },
        {
          "output_type": "display_data",
          "data": {
            "text/plain": [
              "<Figure size 1000x500 with 1 Axes>"
            ],
            "image/png": "[encoded data removed]"
          },
          "metadata": {}
        }
      ],
      "source": [
        "# Observing web visits by notable events\n",
        "plt.figure(figsize=(10,5))\n",
        "sns.barplot(x='Notable Events',y='Visitors',data=df).set_title(\"Web Traffic by Notable Events\")"
      ]
    },
    {
      "cell_type": "code",
      "source": [
        "\n",
        "import matplotlib.pyplot as plt\n",
        "\n",
        "# Assuming 'average_data' is your DataFrame with 'Seasonality', 'Visitors', and 'Time_Spent' columns\n",
        "\n",
        "average_df = df.groupby('Seasonality')[['Visitors','Timestamps']].mean().reset_index()\n",
        "# You can adjust the figure size if needed\n",
        "plt.figure(figsize=(10, 6))\n",
        "\n",
        "# Plot the average number of visitors\n",
        "plt.subplot(2, 1, 1)  # Create a subplot for the first plot\n",
        "plt.bar(average_df['Seasonality'], average_df['Visitors'])\n",
        "plt.xlabel('Seasonality')\n",
        "plt.ylabel('Average Visitors')\n",
        "plt.title('Average Number of Visitors by Seasonality')\n",
        "\n",
        "# Plot the average time spent\n",
        "plt.subplot(2, 1, 2)  # Create a subplot for the second plot\n",
        "plt.bar(average_df['Seasonality'], average_df['Time'])\n",
        "plt.xlabel('Seasonality')\n",
        "plt.ylabel('Average Timestamps)\n",
        "plt.title('Average Time by Seasonality')\n",
        "\n",
        "# Adjust the layout to prevent overlapping of subplots\n",
        "plt.tight_layout()\n",
        "\n",
        "# Show the plots\n",
        "plt.show()"
      ],
      "metadata": {
        "colab": {
          "base_uri": "https://localhost:8080/",
          "height": 166
        },
        "id": "N5cqEYIOFnnU",
        "outputId": "52a8524e-33e3-421a-d974-b9c0e88cf76f"
      },
      "execution_count": 240,
      "outputs": [
        {
          "output_type": "error",
          "ename": "SyntaxError",
          "evalue": "ignored",
          "traceback": [
            "\u001b[0;36m  File \u001b[0;32m\"<ipython-input-240-0d7ce03dc702>\"\u001b[0;36m, line \u001b[0;32m20\u001b[0m\n\u001b[0;31m    plt.ylabel('Average Timestamps)\u001b[0m\n\u001b[0m               ^\u001b[0m\n\u001b[0;31mSyntaxError\u001b[0m\u001b[0;31m:\u001b[0m unterminated string literal (detected at line 20)\n"
          ]
        }
      ]
    },
    {
      "cell_type": "code",
      "source": [
        "\n",
        "import matplotlib.pyplot as plt\n",
        "\n",
        "# Data for Visitors, Page Views, and Transactions\n",
        "visitors_data = [1093]*181  # Replicate the mean value to create 181 data points for visualization\n",
        "page_views_data = [5172]*181\n",
        "transactions_data = [54]*181\n",
        "\n",
        "# Plotting the Histogram\n",
        "plt.figure(figsize=(12, 6))\n",
        "\n",
        "plt.subplot(1, 3, 1)\n",
        "plt.hist(visitors_data, bins=15, color='skyblue', edgecolor='black')\n",
        "plt.xlabel('Visitors')\n",
        "plt.ylabel('Frequency')\n",
        "plt.title('Histogram of Visitors')\n",
        "\n",
        "plt.subplot(1, 3, 2)\n",
        "plt.hist(page_views_data, bins=15, color='lightgreen', edgecolor='black')\n",
        "plt.xlabel('Page Views')\n",
        "plt.ylabel('Frequency')\n",
        "plt.title('Histogram of Page Views')\n",
        "\n",
        "plt.subplot(1, 3, 3)\n",
        "plt.hist(transactions_data, bins=15, color='lightcoral', edgecolor='black')\n",
        "plt.xlabel('Transactions')\n",
        "plt.ylabel('Frequency')\n",
        "plt.title('Histogram of Transactions')\n",
        "\n",
        "plt.tight_layout()\n",
        "plt.show()"
      ],
      "metadata": {
        "colab": {
          "base_uri": "https://localhost:8080/",
          "height": 171
        },
        "id": "Op6JNXduL166",
        "outputId": "13e7638f-e5a2-4dcf-c6fd-5220406a4704"
      },
      "execution_count": 233,
      "outputs": [
        {
          "output_type": "display_data",
          "data": {
            "text/plain": [
              "<Figure size 1200x600 with 3 Axes>"
            ],
            "image/png": "[encoded data removed]"
          },
          "metadata": {}
        }
      ]
    },
    {
      "cell_type": "code",
      "source": [
        "\n",
        "plt.figure(figsize=(10, 6))\n",
        "\n",
        "# Box plot for Visitors\n",
        "plt.subplot(1, 3, 1)\n",
        "plt.boxplot(visitors_data, vert=False)\n",
        "plt.xlabel('Visitors')\n",
        "plt.title('Box Plot of Visitors')\n",
        "\n",
        "# Box plot for Page Views\n",
        "plt.subplot(1, 3, 2)\n",
        "plt.boxplot(page_views_data, vert=False)\n",
        "plt.xlabel('Page Views')\n",
        "plt.title('Box Plot of Page Views')\n",
        "\n",
        "# Box plot for Transactions\n",
        "plt.subplot(1, 3, 3)\n",
        "plt.boxplot(transactions_data, vert=False)\n",
        "plt.xlabel('Transactions')\n",
        "plt.title('Box Plot of Transactions')\n",
        "\n",
        "plt.tight_layout()\n",
        "plt.show()"
      ],
      "metadata": {
        "colab": {
          "base_uri": "https://localhost:8080/",
          "height": 603
        },
        "id": "49YXns6-MPqY",
        "outputId": "6e6ae8a0-7c45-43c8-c6ff-d18523a9fa4c"
      },
      "execution_count": 234,
      "outputs": [
        {
          "output_type": "display_data",
          "data": {
            "text/plain": [
              "<Figure size 1000x600 with 3 Axes>"
            ],
            "image/png": "[encoded data removed]"
          },
          "metadata": {}
        }
      ]
    },
    {
      "cell_type": "code",
      "source": [
        "\n",
        "import matplotlib.pyplot as plt\n",
        "\n",
        "# Data for average Transactions and average Visitors\n",
        "average_transactions = 54\n",
        "average_visitors = 1093\n",
        "\n",
        "# Plotting the comparison using a bar plot\n",
        "plt.figure(figsize=(8, 6))\n",
        "plt.bar(['Transactions', 'Visitors'], [average_transactions, average_visitors], color=['b', 'g'])\n",
        "plt.ylabel('Average Count')\n",
        "plt.title('Comparison of Average Transactions and Visitors')\n",
        "plt.show()"
      ],
      "metadata": {
        "colab": {
          "base_uri": "https://localhost:8080/",
          "height": 582
        },
        "id": "7a5Ji2e7NfcO",
        "outputId": "a244038b-9574-4fdb-d19a-80893ba6b24d"
      },
      "execution_count": 237,
      "outputs": [
        {
          "output_type": "display_data",
          "data": {
            "text/plain": [
              "<Figure size 800x600 with 1 Axes>"
            ],
            "image/png": "[encoded data removed]"
          },
          "metadata": {}
        }
      ]
    },
    {
      "cell_type": "markdown",
      "metadata": {
        "id": "1hceg8Y5qhfh"
      },
      "source": [
        "#Data Preprocessing\n"
      ]
    },
    {
      "cell_type": "code",
      "source": [
        "\n",
        "import matplotlib.pyplot as plt\n",
        "\n",
        "# Assuming you have a DataFrame named 'data' with 'Visitors' and 'Page Views' columns\n",
        "\n",
        "# Plotting the correlation using a scatter plot\n",
        "plt.figure(figsize=(8, 6))\n",
        "plt.scatter(df['Visitors'], df['Page Views'], color='b', alpha=0.7)\n",
        "plt.xlabel('Visitors')\n",
        "plt.ylabel('Page Views')\n",
        "plt.title('Correlation between Page Views and Visitors')\n",
        "plt.grid(True)\n",
        "plt.show()"
      ],
      "metadata": {
        "colab": {
          "base_uri": "https://localhost:8080/",
          "height": 904
        },
        "id": "d8i-4SwdO0cp",
        "outputId": "6226f0c6-639b-4d1e-884c-3d7a9c8d9f90"
      },
      "execution_count": 243,
      "outputs": [
        {
          "output_type": "error",
          "ename": "KeyError",
          "evalue": "ignored",
          "traceback": [
            "\u001b[0;31m---------------------------------------------------------------------------\u001b[0m",
            "\u001b[0;31mKeyError\u001b[0m                                  Traceback (most recent call last)",
            "\u001b[0;32m/usr/local/lib/python3.10/dist-packages/pandas/core/indexes/base.py\u001b[0m in \u001b[0;36mget_loc\u001b[0;34m(self, key, method, tolerance)\u001b[0m\n\u001b[1;32m   3801\u001b[0m             \u001b[0;32mtry\u001b[0m\u001b[0;34m:\u001b[0m\u001b[0;34m\u001b[0m\u001b[0;34m\u001b[0m\u001b[0m\n\u001b[0;32m-> 3802\u001b[0;31m                 \u001b[0;32mreturn\u001b[0m \u001b[0mself\u001b[0m\u001b[0;34m.\u001b[0m\u001b[0m_engine\u001b[0m\u001b[0;34m.\u001b[0m\u001b[0mget_loc\u001b[0m\u001b[0;34m(\u001b[0m\u001b[0mcasted_key\u001b[0m\u001b[0;34m)\u001b[0m\u001b[0;34m\u001b[0m\u001b[0;34m\u001b[0m\u001b[0m\n\u001b[0m\u001b[1;32m   3803\u001b[0m             \u001b[0;32mexcept\u001b[0m \u001b[0mKeyError\u001b[0m \u001b[0;32mas\u001b[0m \u001b[0merr\u001b[0m\u001b[0;34m:\u001b[0m\u001b[0;34m\u001b[0m\u001b[0;34m\u001b[0m\u001b[0m\n",
            "\u001b[0;32m/usr/local/lib/python3.10/dist-packages/pandas/_libs/index.pyx\u001b[0m in \u001b[0;36mpandas._libs.index.IndexEngine.get_loc\u001b[0;34m()\u001b[0m\n",
            "\u001b[0;32m/usr/local/lib/python3.10/dist-packages/pandas/_libs/index.pyx\u001b[0m in \u001b[0;36mpandas._libs.index.IndexEngine.get_loc\u001b[0;34m()\u001b[0m\n",
            "\u001b[0;32mpandas/_libs/hashtable_class_helper.pxi\u001b[0m in \u001b[0;36mpandas._libs.hashtable.PyObjectHashTable.get_item\u001b[0;34m()\u001b[0m\n",
            "\u001b[0;32mpandas/_libs/hashtable_class_helper.pxi\u001b[0m in \u001b[0;36mpandas._libs.hashtable.PyObjectHashTable.get_item\u001b[0;34m()\u001b[0m\n",
            "\u001b[0;31mKeyError\u001b[0m: 'Page Views'",
            "\nThe above exception was the direct cause of the following exception:\n",
            "\u001b[0;31mKeyError\u001b[0m                                  Traceback (most recent call last)",
            "\u001b[0;32m<ipython-input-243-dc17f9e4aa40>\u001b[0m in \u001b[0;36m<cell line: 7>\u001b[0;34m()\u001b[0m\n\u001b[1;32m      5\u001b[0m \u001b[0;31m# Plotting the correlation using a scatter plot\u001b[0m\u001b[0;34m\u001b[0m\u001b[0;34m\u001b[0m\u001b[0m\n\u001b[1;32m      6\u001b[0m \u001b[0mplt\u001b[0m\u001b[0;34m.\u001b[0m\u001b[0mfigure\u001b[0m\u001b[0;34m(\u001b[0m\u001b[0mfigsize\u001b[0m\u001b[0;34m=\u001b[0m\u001b[0;34m(\u001b[0m\u001b[0;36m8\u001b[0m\u001b[0;34m,\u001b[0m \u001b[0;36m6\u001b[0m\u001b[0;34m)\u001b[0m\u001b[0;34m)\u001b[0m\u001b[0;34m\u001b[0m\u001b[0;34m\u001b[0m\u001b[0m\n\u001b[0;32m----> 7\u001b[0;31m \u001b[0mplt\u001b[0m\u001b[0;34m.\u001b[0m\u001b[0mscatter\u001b[0m\u001b[0;34m(\u001b[0m\u001b[0mdf\u001b[0m\u001b[0;34m[\u001b[0m\u001b[0;34m'Visitors'\u001b[0m\u001b[0;34m]\u001b[0m\u001b[0;34m,\u001b[0m \u001b[0mdf\u001b[0m\u001b[0;34m[\u001b[0m\u001b[0;34m'Page Views'\u001b[0m\u001b[0;34m]\u001b[0m\u001b[0;34m,\u001b[0m \u001b[0mcolor\u001b[0m\u001b[0;34m=\u001b[0m\u001b[0;34m'b'\u001b[0m\u001b[0;34m,\u001b[0m \u001b[0malpha\u001b[0m\u001b[0;34m=\u001b[0m\u001b[0;36m0.7\u001b[0m\u001b[0;34m)\u001b[0m\u001b[0;34m\u001b[0m\u001b[0;34m\u001b[0m\u001b[0m\n\u001b[0m\u001b[1;32m      8\u001b[0m \u001b[0mplt\u001b[0m\u001b[0;34m.\u001b[0m\u001b[0mxlabel\u001b[0m\u001b[0;34m(\u001b[0m\u001b[0;34m'Visitors'\u001b[0m\u001b[0;34m)\u001b[0m\u001b[0;34m\u001b[0m\u001b[0;34m\u001b[0m\u001b[0m\n\u001b[1;32m      9\u001b[0m \u001b[0mplt\u001b[0m\u001b[0;34m.\u001b[0m\u001b[0mylabel\u001b[0m\u001b[0;34m(\u001b[0m\u001b[0;34m'Page Views'\u001b[0m\u001b[0;34m)\u001b[0m\u001b[0;34m\u001b[0m\u001b[0;34m\u001b[0m\u001b[0m\n",
            "\u001b[0;32m/usr/local/lib/python3.10/dist-packages/pandas/core/frame.py\u001b[0m in \u001b[0;36m__getitem__\u001b[0;34m(self, key)\u001b[0m\n\u001b[1;32m   3805\u001b[0m             \u001b[0;32mif\u001b[0m \u001b[0mself\u001b[0m\u001b[0;34m.\u001b[0m\u001b[0mcolumns\u001b[0m\u001b[0;34m.\u001b[0m\u001b[0mnlevels\u001b[0m \u001b[0;34m>\u001b[0m \u001b[0;36m1\u001b[0m\u001b[0;34m:\u001b[0m\u001b[0;34m\u001b[0m\u001b[0;34m\u001b[0m\u001b[0m\n\u001b[1;32m   3806\u001b[0m                 \u001b[0;32mreturn\u001b[0m \u001b[0mself\u001b[0m\u001b[0;34m.\u001b[0m\u001b[0m_getitem_multilevel\u001b[0m\u001b[0;34m(\u001b[0m\u001b[0mkey\u001b[0m\u001b[0;34m)\u001b[0m\u001b[0;34m\u001b[0m\u001b[0;34m\u001b[0m\u001b[0m\n\u001b[0;32m-> 3807\u001b[0;31m             \u001b[0mindexer\u001b[0m \u001b[0;34m=\u001b[0m \u001b[0mself\u001b[0m\u001b[0;34m.\u001b[0m\u001b[0mcolumns\u001b[0m\u001b[0;34m.\u001b[0m\u001b[0mget_loc\u001b[0m\u001b[0;34m(\u001b[0m\u001b[0mkey\u001b[0m\u001b[0;34m)\u001b[0m\u001b[0;34m\u001b[0m\u001b[0;34m\u001b[0m\u001b[0m\n\u001b[0m\u001b[1;32m   3808\u001b[0m             \u001b[0;32mif\u001b[0m \u001b[0mis_integer\u001b[0m\u001b[0;34m(\u001b[0m\u001b[0mindexer\u001b[0m\u001b[0;34m)\u001b[0m\u001b[0;34m:\u001b[0m\u001b[0;34m\u001b[0m\u001b[0;34m\u001b[0m\u001b[0m\n\u001b[1;32m   3809\u001b[0m                 \u001b[0mindexer\u001b[0m \u001b[0;34m=\u001b[0m \u001b[0;34m[\u001b[0m\u001b[0mindexer\u001b[0m\u001b[0;34m]\u001b[0m\u001b[0;34m\u001b[0m\u001b[0;34m\u001b[0m\u001b[0m\n",
            "\u001b[0;32m/usr/local/lib/python3.10/dist-packages/pandas/core/indexes/base.py\u001b[0m in \u001b[0;36mget_loc\u001b[0;34m(self, key, method, tolerance)\u001b[0m\n\u001b[1;32m   3802\u001b[0m                 \u001b[0;32mreturn\u001b[0m \u001b[0mself\u001b[0m\u001b[0;34m.\u001b[0m\u001b[0m_engine\u001b[0m\u001b[0;34m.\u001b[0m\u001b[0mget_loc\u001b[0m\u001b[0;34m(\u001b[0m\u001b[0mcasted_key\u001b[0m\u001b[0;34m)\u001b[0m\u001b[0;34m\u001b[0m\u001b[0;34m\u001b[0m\u001b[0m\n\u001b[1;32m   3803\u001b[0m             \u001b[0;32mexcept\u001b[0m \u001b[0mKeyError\u001b[0m \u001b[0;32mas\u001b[0m \u001b[0merr\u001b[0m\u001b[0;34m:\u001b[0m\u001b[0;34m\u001b[0m\u001b[0;34m\u001b[0m\u001b[0m\n\u001b[0;32m-> 3804\u001b[0;31m                 \u001b[0;32mraise\u001b[0m \u001b[0mKeyError\u001b[0m\u001b[0;34m(\u001b[0m\u001b[0mkey\u001b[0m\u001b[0;34m)\u001b[0m \u001b[0;32mfrom\u001b[0m \u001b[0merr\u001b[0m\u001b[0;34m\u001b[0m\u001b[0;34m\u001b[0m\u001b[0m\n\u001b[0m\u001b[1;32m   3805\u001b[0m             \u001b[0;32mexcept\u001b[0m \u001b[0mTypeError\u001b[0m\u001b[0;34m:\u001b[0m\u001b[0;34m\u001b[0m\u001b[0;34m\u001b[0m\u001b[0m\n\u001b[1;32m   3806\u001b[0m                 \u001b[0;31m# If we have a listlike key, _check_indexing_error will raise\u001b[0m\u001b[0;34m\u001b[0m\u001b[0;34m\u001b[0m\u001b[0m\n",
            "\u001b[0;31mKeyError\u001b[0m: 'Page Views'"
          ]
        },
        {
          "output_type": "display_data",
          "data": {
            "text/plain": [
              "<Figure size 800x600 with 0 Axes>"
            ]
          },
          "metadata": {}
        }
      ]
    },
    {
      "cell_type": "code",
      "execution_count": null,
      "metadata": {
        "id": "rVtcJn4Pqgkn"
      },
      "outputs": [],
      "source": [
        "# Encode categorical variables \"Seasonality\" and \"Notable Events\"\n",
        "label_encoder = LabelEncoder()\n",
        "df[\"Seasonality\"] = label_encoder.fit_transform(df[\"Seasonality\"])\n",
        "df[\"Notable Events\"] = label_encoder.fit_transform(df[\"Notable Events\"])"
      ]
    },
    {
      "cell_type": "code",
      "execution_count": 242,
      "metadata": {
        "id": "3fXo7Vweqym_"
      },
      "outputs": [],
      "source": [
        "# Assuming X contains the relevant input features and y contains the target variable (\"Web Traffic (Number of Visits)\")\n",
        "X = df[[\"Seasonality\", \"Notable Events\", \"Time\"]].values\n",
        "y = df[\"Visitors\"].values"
      ]
    },
    {
      "cell_type": "markdown",
      "metadata": {
        "id": "d4qoPiNsDjwb"
      },
      "source": [
        "#Training and preprocessing deep learning models"
      ]
    },
    {
      "cell_type": "code",
      "source": [
        "\n",
        "# Assuming 'traffic_data' is your DataFrame with 'Date' and 'Traffic' columns\n",
        "traffic_data['Timestamps'] = pd.to_datetime(Estore1['Timestamps'])\n",
        "traffic_data = traffic_data.sort_values('Date')"
      ],
      "metadata": {
        "colab": {
          "base_uri": "https://localhost:8080/",
          "height": 340
        },
        "id": "Hv2E0LNdKk0Y",
        "outputId": "086b2106-6b6d-4850-d4bb-46fcdca6aea5"
      },
      "execution_count": 232,
      "outputs": [
        {
          "output_type": "error",
          "ename": "NameError",
          "evalue": "ignored",
          "traceback": [
            "\u001b[0;31m---------------------------------------------------------------------------\u001b[0m",
            "\u001b[0;31mNameError\u001b[0m                                 Traceback (most recent call last)",
            "\u001b[0;32m<ipython-input-232-267eb69a1ccb>\u001b[0m in \u001b[0;36m<cell line: 2>\u001b[0;34m()\u001b[0m\n\u001b[1;32m      1\u001b[0m \u001b[0;31m# Assuming 'traffic_data' is your DataFrame with 'Date' and 'Traffic' columns\u001b[0m\u001b[0;34m\u001b[0m\u001b[0;34m\u001b[0m\u001b[0m\n\u001b[0;32m----> 2\u001b[0;31m \u001b[0mtraffic_data\u001b[0m\u001b[0;34m[\u001b[0m\u001b[0;34m'Timestamps'\u001b[0m\u001b[0;34m]\u001b[0m \u001b[0;34m=\u001b[0m \u001b[0mpd\u001b[0m\u001b[0;34m.\u001b[0m\u001b[0mto_datetime\u001b[0m\u001b[0;34m(\u001b[0m\u001b[0mEstore1\u001b[0m\u001b[0;34m[\u001b[0m\u001b[0;34m'Timestamps'\u001b[0m\u001b[0;34m]\u001b[0m\u001b[0;34m)\u001b[0m\u001b[0;34m\u001b[0m\u001b[0;34m\u001b[0m\u001b[0m\n\u001b[0m\u001b[1;32m      3\u001b[0m \u001b[0mtraffic_data\u001b[0m \u001b[0;34m=\u001b[0m \u001b[0mtraffic_data\u001b[0m\u001b[0;34m.\u001b[0m\u001b[0msort_values\u001b[0m\u001b[0;34m(\u001b[0m\u001b[0;34m'Date'\u001b[0m\u001b[0;34m)\u001b[0m\u001b[0;34m\u001b[0m\u001b[0;34m\u001b[0m\u001b[0m\n",
            "\u001b[0;31mNameError\u001b[0m: name 'Estore1' is not defined"
          ]
        }
      ]
    }
  ],
  "metadata": {
    "colab": {
      "provenance": [],
      "authorship_tag": "ABX9TyOMkS7Pp6UGhle2jg95kaZX",
      "include_colab_link": true
    },
    "kernelspec": {
      "display_name": "Python 3",
      "name": "python3"
    },
    "language_info": {
      "name": "python"
    }
  },
  "nbformat": 4,
  "nbformat_minor": 0
}